{
 "cells": [
  {
   "cell_type": "markdown",
   "id": "6f2f9c0a",
   "metadata": {},
   "source": [
    "## Topic 1: Fundamentals of DSA\n",
    "### Task 1: Analyzing Time Complexity of Algorithms"
   ]
  },
  {
   "cell_type": "markdown",
   "id": "0d34bd18",
   "metadata": {},
   "source": [
    "##### Step 1: Import Required Modules:"
   ]
  },
  {
   "cell_type": "code",
   "execution_count": 3,
   "id": "baec2f4a-e303-451a-af21-964b737f98ba",
   "metadata": {},
   "outputs": [],
   "source": [
    "import random\n",
    "import time \n",
    "import matplotlib.pyplot as plt"
   ]
  },
  {
   "cell_type": "markdown",
   "id": "146aa879",
   "metadata": {},
   "source": [
    "##### Step 2: Implement Sorting Algorithms:\n",
    "\n"
   ]
  },
  {
   "cell_type": "code",
   "execution_count": 4,
   "metadata": {},
   "outputs": [],
   "source": [
    "def bubble_sort(arr):\n",
    "    n = len(arr)\n",
    "    for i in range(n):\n",
    "        for j in range(0, n-i-1):\n",
    "            if arr[j] > arr[j+1]:\n",
    "                arr[j], arr[j+1] = arr[j+1], arr[j]"
   ]
  },
  {
   "cell_type": "code",
   "execution_count": 5,
   "id": "6498006a",
   "metadata": {},
   "outputs": [],
   "source": [
    "def merge_sort(arr):\n",
    "    if len(arr) > 1:\n",
    "        mid = len(arr) // 2\n",
    "        L = arr[:mid]\n",
    "        R = arr[mid:]\n",
    "\n",
    "        merge_sort(L)\n",
    "        merge_sort(R)\n",
    "\n",
    "        i = j = k = 0\n",
    "\n",
    "        while i < len(L) and j < len(R):\n",
    "            if L[i] < R[j]:\n",
    "                arr[k] = L[i]\n",
    "                i += 1\n",
    "            else:\n",
    "                arr[k] = R[j]\n",
    "                j += 1\n",
    "            k += 1\n",
    "\n",
    "        while i < len(L):\n",
    "            arr[k] = L[i]\n",
    "            i += 1\n",
    "            k += 1\n",
    "\n",
    "        while j < len(R):\n",
    "            arr[k] = R[j]\n",
    "            j += 1\n",
    "            k += 1"
   ]
  },
  {
   "cell_type": "code",
   "execution_count": 6,
   "id": "ed602f68",
   "metadata": {},
   "outputs": [],
   "source": [
    "def quick_sort(arr):\n",
    "    if len(arr) <= 1:\n",
    "        return arr\n",
    "    pivot = arr[len(arr) // 2]\n",
    "    left = [x for x in arr if x < pivot]\n",
    "    middle = [x for x in arr if x == pivot]\n",
    "    right = [x for x in arr if x > pivot]\n",
    "    return quick_sort(left) + middle + quick_sort(right)"
   ]
  },
  {
   "cell_type": "markdown",
   "id": "f99c9f75",
   "metadata": {},
   "source": [
    "####  Step 3: Generate Random List\n",
    "\n"
   ]
  },
  {
   "cell_type": "code",
   "execution_count": 7,
   "id": "32d38a46",
   "metadata": {},
   "outputs": [],
   "source": [
    "data = [random.randint(0, 10000) for _ in range(1000)]"
   ]
  },
  {
   "cell_type": "markdown",
   "id": "4e8c65e1",
   "metadata": {},
   "source": [
    "#### Step 4: Measure Execution Time\n",
    "\n"
   ]
  },
  {
   "cell_type": "code",
   "execution_count": 8,
   "id": "c46e439e",
   "metadata": {},
   "outputs": [],
   "source": [
    "data_1 = data.copy()\n",
    "data_2 = data.copy()\n",
    "data_3 = data.copy()\n",
    "\n",
    "start_time = time.time()\n",
    "bubble_sort(data_1)\n",
    "bubble_time = time.time() - start_time\n",
    "\n",
    "start_time = time.time()\n",
    "merge_sort(data_2)\n",
    "merge_time = time.time() - start_time\n",
    "\n",
    "start_time = time.time()\n",
    "quick_sort(data_3)\n",
    "quick_time = time.time() - start_time\n"
   ]
  },
  {
   "cell_type": "markdown",
   "id": "606ce0bb",
   "metadata": {},
   "source": [
    "#### Step 5: Create Comparison Table and Graph\n",
    "\n"
   ]
  },
  {
   "cell_type": "code",
   "execution_count": 34,
   "id": "bccb0746",
   "metadata": {},
   "outputs": [
    {
     "name": "stdout",
     "output_type": "stream",
     "text": [
      "Algorithm   Time (seconds)\n",
      "-------------------------\n",
      "Bubble Sort 0.096319\n",
      "Merge Sort  0.000000\n",
      "Quick Sort  0.000000\n"
     ]
    },
    {
     "data": {
      "image/png": "[encoded data removed]",
      "text/plain": [
       "<Figure size 640x480 with 1 Axes>"
      ]
     },
     "metadata": {},
     "output_type": "display_data"
    }
   ],
   "source": [
    "print(f\"{'Algorithm':<12}{'Time (seconds)'}\")\n",
    "print(f\"{'-'*25}\")\n",
    "print(f\"{'Bubble Sort':<12}{bubble_time:.6f}\")\n",
    "print(f\"{'Merge Sort':<12}{merge_time:.6f}\")\n",
    "print(f\"{'Quick Sort':<12}{quick_time:.6f}\")\n",
    "\n",
    "algorithms = ['Bubble Sort', 'Merge Sort', 'Quick Sort']\n",
    "times = [bubble_time, merge_time, quick_time]\n",
    "\n",
    "plt.bar(algorithms, times, color=['blue', 'green', 'red'])\n",
    "plt.title('Sorting Algorithm Time Complexity')\n",
    "plt.ylabel('Time (seconds)')\n",
    "plt.show()"
   ]
  },
  {
   "cell_type": "code",
   "execution_count": null,
   "id": "37efa646",
   "metadata": {},
   "outputs": [],
   "source": []
  }
 ],
 "metadata": {
  "kernelspec": {
   "display_name": "Python 3",
   "language": "python",
   "name": "python3"
  },
  "language_info": {
   "codemirror_mode": {
    "name": "ipython",
    "version": 3
   },
   "file_extension": ".py",
   "mimetype": "text/x-python",
   "name": "python",
   "nbconvert_exporter": "python",
   "pygments_lexer": "ipython3",
   "version": "3.12.4"
  }
 },
 "nbformat": 4,
 "nbformat_minor": 5
}
