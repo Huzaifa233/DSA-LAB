{
 "cells": [
  {
   "cell_type": "markdown",
   "id": "209350ff",
   "metadata": {},
   "source": [
    "### Implementing a Circular Queue"
   ]
  },
  {
   "cell_type": "code",
   "execution_count": 1,
   "id": "3f02940e",
   "metadata": {},
   "outputs": [
    {
     "name": "stdout",
     "output_type": "stream",
     "text": [
      "Front element: 20\n",
      "Rear element: 60\n"
     ]
    }
   ],
   "source": [
    "class CircularQueue:\n",
    "    def __init__(self, size):\n",
    "        self.size = size\n",
    "        self.queue = [None] * size\n",
    "        self.front_index = -1\n",
    "        self.rear_index = -1\n",
    "\n",
    "    def enqueue(self, element):\n",
    "        if self.is_full():\n",
    "            print(\"Queue is full!\")\n",
    "            return\n",
    "\n",
    "        if self.is_empty():\n",
    "            self.front_index = 0\n",
    "\n",
    "        self.rear_index = (self.rear_index + 1) % self.size\n",
    "        self.queue[self.rear_index] = element\n",
    "\n",
    "    def dequeue(self):\n",
    "        if self.is_empty():\n",
    "            print(\"Queue is empty!\")\n",
    "            return\n",
    "\n",
    "        removed = self.queue[self.front_index]\n",
    "        if self.front_index == self.rear_index:\n",
    "            # Queue becomes empty\n",
    "            self.front_index = -1\n",
    "            self.rear_index = -1\n",
    "        else:\n",
    "            self.front_index = (self.front_index + 1) % self.size\n",
    "\n",
    "        return removed\n",
    "\n",
    "    def front(self):\n",
    "        if self.is_empty():\n",
    "            return \"Queue is empty!\"\n",
    "        return self.queue[self.front_index]\n",
    "\n",
    "    def rear(self):\n",
    "        if self.is_empty():\n",
    "            return \"Queue is empty!\"\n",
    "        return self.queue[self.rear_index]\n",
    "\n",
    "    def is_empty(self):\n",
    "        return self.front_index == -1\n",
    "\n",
    "    def is_full(self):\n",
    "        return (self.rear_index + 1) % self.size == self.front_index\n",
    "\n",
    "cq = CircularQueue(5)\n",
    "\n",
    "cq.enqueue(10)\n",
    "cq.enqueue(20)\n",
    "cq.enqueue(30)\n",
    "cq.enqueue(40)\n",
    "cq.enqueue(50)\n",
    "cq.dequeue()\n",
    "cq.enqueue(60)\n",
    "\n",
    "print(\"Front element:\", cq.front())  # Expected: 20\n",
    "print(\"Rear element:\", cq.rear())    # Expected: 60\n"
   ]
  },
  {
   "cell_type": "markdown",
   "id": "e78543a9",
   "metadata": {},
   "source": []
  }
 ],
 "metadata": {
  "kernelspec": {
   "display_name": "Python 3",
   "language": "python",
   "name": "python3"
  },
  "language_info": {
   "codemirror_mode": {
    "name": "ipython",
    "version": 3
   },
   "file_extension": ".py",
   "mimetype": "text/x-python",
   "name": "python",
   "nbconvert_exporter": "python",
   "pygments_lexer": "ipython3",
   "version": "3.12.4"
  }
 },
 "nbformat": 4,
 "nbformat_minor": 5
}
