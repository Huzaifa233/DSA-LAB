{
 "cells": [
  {
   "cell_type": "markdown",
   "id": "ad2828e6",
   "metadata": {},
   "source": [
    "### Stacks & Queues\n",
    "#### Implementing a Stack Using Arrays and Linked Lists"
   ]
  },
  {
   "cell_type": "code",
   "execution_count": 2,
   "id": "e447ff3e",
   "metadata": {},
   "outputs": [
    {
     "name": "stdout",
     "output_type": "stream",
     "text": [
      "Top element: 30\n",
      "Size: 3\n",
      "Popped element: 30\n",
      "Is stack empty? False\n",
      "\n",
      "Testing Stack using Linked List\n",
      "Top element: 300\n",
      "Size: 3\n",
      "Popped element: 300\n",
      "Is stack empty? False\n"
     ]
    }
   ],
   "source": [
    "class Stack_Array:\n",
    "    def __init__(self):\n",
    "        self.stack = []\n",
    "\n",
    "    def push(self, item):\n",
    "        self.stack.append(item)\n",
    "        \n",
    "    def pop(self):\n",
    "        if self.is_empty():\n",
    "            return \"Stack is empty\"\n",
    "        return self.stack.pop()\n",
    "\n",
    "    def peek(self):\n",
    "        if self.is_empty():\n",
    "            return \"Stack is empty\"\n",
    "        return self.stack[-1]\n",
    "\n",
    "    def is_empty(self):\n",
    "        return len(self.stack) == 0\n",
    "    \n",
    "    def size(self):\n",
    "        return len(self.stack)\n",
    "\n",
    "\n",
    "class Node:\n",
    "    def __init__(self, data):\n",
    "        self.data = data\n",
    "        self.next = None\n",
    "\n",
    "class StackLinkedList:\n",
    "    def __init__(self):\n",
    "        self.top = None\n",
    "        self.count = 0\n",
    "\n",
    "    def push(self, element):\n",
    "        new_node = Node(element)\n",
    "        new_node.next = self.top\n",
    "        self.top = new_node\n",
    "        self.count += 1\n",
    "\n",
    "    def pop(self):\n",
    "        if self.is_empty():\n",
    "            return \"Stack is empty!\"\n",
    "        popped = self.top.data\n",
    "        self.top = self.top.next\n",
    "        self.count -= 1\n",
    "        return popped\n",
    "\n",
    "    def peek(self):\n",
    "        if self.is_empty():\n",
    "            return \"Stack is empty!\"\n",
    "        return self.top.data\n",
    "\n",
    "    def is_empty(self):\n",
    "        return self.top is None\n",
    "\n",
    "    def size(self):\n",
    "        return self.count\n",
    "\n",
    "stack_array = Stack_Array()\n",
    "stack_array.push(10)\n",
    "stack_array.push(20)\n",
    "stack_array.push(30)\n",
    "print(\"Top element:\", stack_array.peek())\n",
    "print(\"Size:\", stack_array.size())\n",
    "print(\"Popped element:\", stack_array.pop())\n",
    "print(\"Is stack empty?\", stack_array.is_empty())\n",
    "print()\n",
    "\n",
    "print(\"Testing Stack using Linked List\")\n",
    "stack_linked = StackLinkedList()\n",
    "stack_linked.push(100)\n",
    "stack_linked.push(200)\n",
    "stack_linked.push(300)\n",
    "print(\"Top element:\", stack_linked.peek())\n",
    "print(\"Size:\", stack_linked.size())\n",
    "print(\"Popped element:\", stack_linked.pop())\n",
    "print(\"Is stack empty?\", stack_linked.is_empty())\n"
   ]
  },
  {
   "cell_type": "markdown",
   "id": "37e8d100",
   "metadata": {},
   "source": []
  }
 ],
 "metadata": {
  "kernelspec": {
   "display_name": "Python 3",
   "language": "python",
   "name": "python3"
  },
  "language_info": {
   "codemirror_mode": {
    "name": "ipython",
    "version": 3
   },
   "file_extension": ".py",
   "mimetype": "text/x-python",
   "name": "python",
   "nbconvert_exporter": "python",
   "pygments_lexer": "ipython3",
   "version": "3.12.4"
  }
 },
 "nbformat": 4,
 "nbformat_minor": 5
}
