{
 "cells": [
  {
   "cell_type": "markdown",
   "id": "ba1ac2da",
   "metadata": {},
   "source": [
    "### Evaluate Postfix Expression Using Stack"
   ]
  },
  {
   "cell_type": "code",
   "execution_count": 1,
   "id": "20f444fc",
   "metadata": {},
   "outputs": [
    {
     "name": "stdout",
     "output_type": "stream",
     "text": [
      "Expression 1: 5 1 2 + 4 * + 3 -\n",
      "Result: 14\n",
      "\n",
      "Expression 2: 2 3 1 * + 9 -\n",
      "Result: -4\n",
      "\n",
      "Expression 3: 10 2 8 * + 3 -\n",
      "Result: 23\n"
     ]
    }
   ],
   "source": [
    "def evaluate_postfix(expression):\n",
    "    stack = []\n",
    "    tokens = expression.split()\n",
    "\n",
    "    for token in tokens:\n",
    "        if token.isdigit():\n",
    "            stack.append(int(token))\n",
    "        else:\n",
    "            b = stack.pop()\n",
    "            a = stack.pop()\n",
    "\n",
    "            if token == '+':\n",
    "                result = a + b\n",
    "            elif token == '-':\n",
    "                result = a - b\n",
    "            elif token == '*':\n",
    "                result = a * b\n",
    "            elif token == '/':\n",
    "                result = a / b  \n",
    "            else:\n",
    "                return \"Invalid operator!\"\n",
    "\n",
    "            stack.append(result)\n",
    "\n",
    "    return stack.pop()\n",
    "\n",
    "expr1 = \"5 1 2 + 4 * + 3 -\"\n",
    "print(\"Expression 1:\", expr1)\n",
    "print(\"Result:\", evaluate_postfix(expr1))  \n",
    "\n",
    "expr2 = \"2 3 1 * + 9 -\"\n",
    "print(\"\\nExpression 2:\", expr2)\n",
    "print(\"Result:\", evaluate_postfix(expr2))  \n",
    "\n",
    "expr3 = \"10 2 8 * + 3 -\"\n",
    "print(\"\\nExpression 3:\", expr3)\n",
    "print(\"Result:\", evaluate_postfix(expr3)) "
   ]
  },
  {
   "cell_type": "code",
   "execution_count": null,
   "id": "f0496179",
   "metadata": {},
   "outputs": [],
   "source": []
  }
 ],
 "metadata": {
  "kernelspec": {
   "display_name": "Python 3",
   "language": "python",
   "name": "python3"
  },
  "language_info": {
   "codemirror_mode": {
    "name": "ipython",
    "version": 3
   },
   "file_extension": ".py",
   "mimetype": "text/x-python",
   "name": "python",
   "nbconvert_exporter": "python",
   "pygments_lexer": "ipython3",
   "version": "3.12.4"
  }
 },
 "nbformat": 4,
 "nbformat_minor": 5
}
