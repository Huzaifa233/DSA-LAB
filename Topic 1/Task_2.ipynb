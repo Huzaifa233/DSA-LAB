{
 "cells": [
  {
   "cell_type": "markdown",
   "id": "62f6c8cb",
   "metadata": {},
   "source": [
    "### Task 2: Recursive vs Iterative Approach"
   ]
  },
  {
   "cell_type": "markdown",
   "id": "2fd28e6a",
   "metadata": {},
   "source": [
    "\n",
    "##### The Fibonacci sequence is:\n",
    "##### Each number is the sum of the previous two numbers"
   ]
  },
  {
   "cell_type": "code",
   "execution_count": null,
   "id": "4abdf1aa",
   "metadata": {},
   "outputs": [],
   "source": [
    "0,1,1,2,3,5,8,13,21,34,55,..."
   ]
  },
  {
   "cell_type": "markdown",
   "id": "abad81b0",
   "metadata": {},
   "source": [
    "### 1. Recursive Approach\n"
   ]
  },
  {
   "cell_type": "code",
   "execution_count": 1,
   "id": "10b6c47a",
   "metadata": {},
   "outputs": [],
   "source": [
    "def fibonacci_recursive(n):\n",
    "    if n <= 0:\n",
    "        return 0\n",
    "    elif n == 1:\n",
    "        return 1\n",
    "    else:\n",
    "        return fibonacci_recursive(n - 1) + fibonacci_recursive(n - 2)\n",
    "   "
   ]
  },
  {
   "cell_type": "markdown",
   "id": "81fc207a",
   "metadata": {},
   "source": [
    "###  2. Iterative Approach\n"
   ]
  },
  {
   "cell_type": "code",
   "execution_count": 2,
   "id": "5299bc2e",
   "metadata": {},
   "outputs": [],
   "source": [
    "def fibonacci_iterative(n):\n",
    "    if n <= 0:\n",
    "        return 0\n",
    "    elif n == 1:\n",
    "        return 1\n",
    "    else:\n",
    "        a, b = 0, 1\n",
    "        for _ in range(2, n + 1):\n",
    "            a, b = b, a + b\n",
    "        return b"
   ]
  },
  {
   "cell_type": "markdown",
   "id": "1aa7f6f1",
   "metadata": {},
   "source": [
    "### 3. Optimized Recursive Approach (Memoization)"
   ]
  },
  {
   "cell_type": "code",
   "execution_count": 3,
   "id": "2921d3ac",
   "metadata": {},
   "outputs": [],
   "source": [
    "def fibonacci_memoization(n, memo={}):\n",
    "    if n in memo:\n",
    "        return memo[n]\n",
    "    if n <= 0:\n",
    "        return 0\n",
    "    elif n == 1:\n",
    "        return 1\n",
    "    else:\n",
    "        memo[n] = fibonacci_memoization(n - 1, memo) + fibonacci_memoization(n - 2, memo)\n",
    "        return memo[n]"
   ]
  },
  {
   "cell_type": "markdown",
   "id": "9cfd295e",
   "metadata": {},
   "source": [
    "### 4. Measure and Compare Execution Time"
   ]
  },
  {
   "cell_type": "code",
   "execution_count": 4,
   "id": "c283e746",
   "metadata": {},
   "outputs": [
    {
     "name": "stdout",
     "output_type": "stream",
     "text": [
      "Recursive Fibonacci 10 took 0.001001 seconds\n",
      "Iterative Fibonacci 10 took 0.000000 seconds\n",
      "Memoization Fibonacci 10 took 0.000000 seconds\n",
      "Recursive Fibonacci 20 took 0.004993 seconds\n",
      "Iterative Fibonacci 20 took 0.000000 seconds\n",
      "Memoization Fibonacci 20 took 0.000000 seconds\n",
      "Recursive Fibonacci 30 took 0.426535 seconds\n",
      "Iterative Fibonacci 30 took 0.000000 seconds\n",
      "Memoization Fibonacci 30 took 0.000000 seconds\n",
      "Recursive Fibonacci 40 took 39.908473 seconds\n",
      "Iterative Fibonacci 40 took 0.000000 seconds\n",
      "Memoization Fibonacci 40 took 0.000000 seconds\n"
     ]
    }
   ],
   "source": [
    "import time\n",
    "\n",
    "n_value = [10, 20, 30, 40]\n",
    "\n",
    "for n in n_value:\n",
    "    start = time.time()\n",
    "    fibonacci_recursive(n)\n",
    "    end = time.time()\n",
    "    print(f\"Recursive Fibonacci {n} took {end - start:.6f} seconds\")\n",
    "\n",
    "    start = time.time()\n",
    "    fibonacci_iterative(n)\n",
    "    end = time.time()\n",
    "    print(f\"Iterative Fibonacci {n} took {end - start:.6f} seconds\")\n",
    "\n",
    "    start = time.time()\n",
    "    fibonacci_memoization(n)\n",
    "    end = time.time()\n",
    "    print(f\"Memoization Fibonacci {n} took {end - start:.6f} seconds\")\n",
    "\n",
    "    \n",
    "    "
   ]
  },
  {
   "cell_type": "code",
   "execution_count": null,
   "id": "4428172c",
   "metadata": {},
   "outputs": [],
   "source": []
  }
 ],
 "metadata": {
  "kernelspec": {
   "display_name": "Python 3",
   "language": "python",
   "name": "python3"
  },
  "language_info": {
   "codemirror_mode": {
    "name": "ipython",
    "version": 3
   },
   "file_extension": ".py",
   "mimetype": "text/x-python",
   "name": "python",
   "nbconvert_exporter": "python",
   "pygments_lexer": "ipython3",
   "version": "3.12.4"
  }
 },
 "nbformat": 4,
 "nbformat_minor": 5
}
