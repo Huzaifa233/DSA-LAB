{
 "cells": [
  {
   "cell_type": "markdown",
   "id": "a2b6197f",
   "metadata": {},
   "source": [
    "### Task 3: Two-Dimensional Array – Image Rotation:"
   ]
  },
  {
   "cell_type": "markdown",
   "id": "714bb1d0",
   "metadata": {},
   "source": [
    "#### Step 1: Python Code to Rotate Matrix 90° Clockwise"
   ]
  },
  {
   "cell_type": "code",
   "execution_count": 1,
   "id": "03aea479",
   "metadata": {},
   "outputs": [
    {
     "name": "stdout",
     "output_type": "stream",
     "text": [
      "[7, 4, 1]\n",
      "[8, 5, 2]\n",
      "[9, 6, 3]\n"
     ]
    }
   ],
   "source": [
    "def rotate_matrix(matrix):\n",
    "    n = len(matrix)\n",
    "\n",
    "    for i in range(n):\n",
    "        for j in range(i, n ):\n",
    "           matrix[i][j], matrix[j][i] = matrix[j][i], matrix[i][j]\n",
    "\n",
    "    for i in range(n):\n",
    "        matrix[i].reverse()\n",
    "\n",
    "matrix = [\n",
    "    [1, 2, 3],\n",
    "    [4, 5, 6],\n",
    "    [7, 8, 9]   \n",
    "]\n",
    "\n",
    "rotate_matrix(matrix)\n",
    "\n",
    "for row in matrix:\n",
    "    print(row)"
   ]
  }
 ],
 "metadata": {
  "kernelspec": {
   "display_name": "Python 3",
   "language": "python",
   "name": "python3"
  },
  "language_info": {
   "codemirror_mode": {
    "name": "ipython",
    "version": 3
   },
   "file_extension": ".py",
   "mimetype": "text/x-python",
   "name": "python",
   "nbconvert_exporter": "python",
   "pygments_lexer": "ipython3",
   "version": "3.12.4"
  }
 },
 "nbformat": 4,
 "nbformat_minor": 5
}
