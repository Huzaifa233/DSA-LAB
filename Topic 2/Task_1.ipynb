{
 "cells": [
  {
   "cell_type": "markdown",
   "id": "a612eed3",
   "metadata": {},
   "source": [
    "## Topic 2: Arrays & Strings\n",
    "### Task 1: Implementing Custom Array Operations"
   ]
  },
  {
   "cell_type": "code",
   "execution_count": 1,
   "id": "5d162065",
   "metadata": {},
   "outputs": [
    {
     "name": "stdout",
     "output_type": "stream",
     "text": [
      "[10, 20, 30, None]\n",
      "[10, 15, 20, 30]\n",
      "[10, 15, 30, None]\n",
      "Found 15 at index: 1\n",
      "Found 100 at index: -1\n"
     ]
    }
   ],
   "source": [
    "class DynamicArray:\n",
    "    def __init__(self):\n",
    "        self.capacity = 2\n",
    "        self.size = 0\n",
    "        self.array = [None] * self.capacity\n",
    "\n",
    "    def insert_end(self, value):\n",
    "        if self.size == self.capacity:\n",
    "            self.resize()\n",
    "        self.array[self.size] = value\n",
    "        self.size += 1\n",
    "\n",
    "    def insert_at(self, index, value):\n",
    "        if index < 0 or index > self.size:\n",
    "            print(\"Invalid index\")\n",
    "            return\n",
    "        if self.size == self.capacity:\n",
    "            self.resize()\n",
    "        for i in range(self.size, index, -1):\n",
    "            self.array[i] = self.array[i-1]\n",
    "        self.array[index] = value\n",
    "        self.size += 1\n",
    "\n",
    "    def delete_at(self, index):\n",
    "        if index < 0 or index >= self.size:\n",
    "            print(\"Invalid index\")\n",
    "            return\n",
    "        for i in range(index, self.size - 1):\n",
    "            self.array[i] = self.array[i+1]\n",
    "        self.array[self.size - 1] = None\n",
    "        self.size -= 1\n",
    "\n",
    "    def search(self, value):\n",
    "        for i in range(self.size):\n",
    "            if self.array[i] == value:\n",
    "                return i\n",
    "        return -1\n",
    "\n",
    "    def resize(self):\n",
    "        self.capacity *= 2\n",
    "        new_array = [None] * self.capacity\n",
    "        for i in range(self.size):\n",
    "            new_array[i] = self.array[i]\n",
    "        self.array = new_array\n",
    "\n",
    "da = DynamicArray()\n",
    "\n",
    "da.insert_end(10)\n",
    "da.insert_end(20)\n",
    "da.insert_end(30)\n",
    "print(da.array)  \n",
    "\n",
    "da.insert_at(1, 15)\n",
    "print(da.array)  \n",
    "\n",
    "da.delete_at(2)\n",
    "print(da.array)  \n",
    "\n",
    "index = da.search(15)\n",
    "print(\"Found 15 at index:\", index)  \n",
    "\n",
    "index = da.search(100)\n",
    "print(\"Found 100 at index:\", index)  \n",
    "\n"
   ]
  },
  {
   "cell_type": "markdown",
   "id": "ab094b14",
   "metadata": {},
   "source": []
  }
 ],
 "metadata": {
  "kernelspec": {
   "display_name": "Python 3",
   "language": "python",
   "name": "python3"
  },
  "language_info": {
   "codemirror_mode": {
    "name": "ipython",
    "version": 3
   },
   "file_extension": ".py",
   "mimetype": "text/x-python",
   "name": "python",
   "nbconvert_exporter": "python",
   "pygments_lexer": "ipython3",
   "version": "3.12.4"
  }
 },
 "nbformat": 4,
 "nbformat_minor": 5
}
