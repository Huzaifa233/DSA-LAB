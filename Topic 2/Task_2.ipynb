{
 "cells": [
  {
   "cell_type": "markdown",
   "id": "cce9f535",
   "metadata": {},
   "source": [
    "### Task 2: Finding the Longest Substring Without Repeating Characters"
   ]
  },
  {
   "cell_type": "markdown",
   "id": "4255992f",
   "metadata": {},
   "source": [
    "#### Step 1: Brute Force Method (O(n²)) \n",
    "\n"
   ]
  },
  {
   "cell_type": "code",
   "execution_count": 2,
   "id": "59a4d4ac",
   "metadata": {},
   "outputs": [],
   "source": [
    "def longest_substring_brute(s):\n",
    "    max_length = 0\n",
    "    longest = \"\"\n",
    "\n",
    "    for i in range(len(s)):\n",
    "        seen = set()\n",
    "        current = \"\"\n",
    "\n",
    "        for j in range(i, len(s)):\n",
    "            if s[j] in seen:\n",
    "                break\n",
    "            seen.add(s[j])\n",
    "            current += s[j]\n",
    "\n",
    "        if len(current) > max_length:\n",
    "            max_length = len(current)\n",
    "            longest = current\n",
    "\n",
    "    return longest, max_length\n"
   ]
  },
  {
   "cell_type": "markdown",
   "id": "348110eb",
   "metadata": {},
   "source": [
    "#### Step 2: Sliding Window Method (O(n)) "
   ]
  },
  {
   "cell_type": "code",
   "execution_count": 3,
   "id": "ccdce3b3",
   "metadata": {},
   "outputs": [],
   "source": [
    "def longest_substring_sliding(s):\n",
    "    start = 0\n",
    "    max_length = 0\n",
    "    longest = \"\"\n",
    "    seen = {}\n",
    "\n",
    "    for end in range(len(s)):\n",
    "        if s[end] in seen and seen[s[end]] >= start:\n",
    "            start = seen[s[end]] + 1\n",
    "\n",
    "        seen[s[end]] = end\n",
    "\n",
    "        if end - start + 1 > max_length:\n",
    "            max_length = end - start + 1\n",
    "            longest = s[start:end+1]\n",
    "\n",
    "    return longest, max_length\n"
   ]
  },
  {
   "cell_type": "markdown",
   "id": "05939562",
   "metadata": {},
   "source": [
    "#### Step 3: Execution Time Comparison"
   ]
  },
  {
   "cell_type": "code",
   "execution_count": 5,
   "id": "e839ee45",
   "metadata": {},
   "outputs": [
    {
     "name": "stdout",
     "output_type": "stream",
     "text": [
      "Brute Force - Longest substring: 'abc', Length: 3, Time: 0.001000 seconds\n",
      "Sliding Window - Longest substring: 'abc', Length: 3, Time: 0.000999 seconds\n"
     ]
    }
   ],
   "source": [
    "import time\n",
    "\n",
    "s = \"abcabcbb\"\n",
    "\n",
    "start_time = time.time()\n",
    "longest_bf, length_bf = longest_substring_brute(s)\n",
    "end_time = time.time()\n",
    "print(f\"Brute Force - Longest substring: '{longest_bf}', Length: {length_bf}, Time: {end_time - start_time:.6f} seconds\")\n",
    "\n",
    "start_time = time.time()\n",
    "longest_sw, length_sw = longest_substring_sliding(s)\n",
    "end_time = time.time()\n",
    "print(f\"Sliding Window - Longest substring: '{longest_sw}', Length: {length_sw}, Time: {end_time - start_time:.6f} seconds\")\n"
   ]
  }
 ],
 "metadata": {
  "kernelspec": {
   "display_name": "Python 3",
   "language": "python",
   "name": "python3"
  },
  "language_info": {
   "codemirror_mode": {
    "name": "ipython",
    "version": 3
   },
   "file_extension": ".py",
   "mimetype": "text/x-python",
   "name": "python",
   "nbconvert_exporter": "python",
   "pygments_lexer": "ipython3",
   "version": "3.12.4"
  }
 },
 "nbformat": 4,
 "nbformat_minor": 5
}
